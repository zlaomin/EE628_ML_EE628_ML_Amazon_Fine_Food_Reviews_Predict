{
  "nbformat": 4,
  "nbformat_minor": 0,
  "metadata": {
    "kernelspec": {
      "name": "python3",
      "display_name": "Python 3"
    },
    "language_info": {
      "codemirror_mode": {
        "name": "ipython",
        "version": 3
      },
      "file_extension": ".py",
      "mimetype": "text/x-python",
      "name": "python",
      "nbconvert_exporter": "python",
      "pygments_lexer": "ipython3",
      "version": "3.6.8"
    },
    "colab": {
      "name": "628project-3.ipynb",
      "provenance": [],
      "collapsed_sections": []
    },
    "accelerator": "GPU"
  },
  "cells": [
    {
      "cell_type": "code",
      "metadata": {
        "id": "MPLS3Qa8fct1",
        "colab_type": "code",
        "outputId": "91207af5-d5bc-4655-ae1e-da2d7684ccc3",
        "colab": {
          "base_uri": "https://localhost:8080/",
          "height": 68
        }
      },
      "source": [
        "X_train = open('X_train.txt')\n",
        "line = X_train.readline()\n",
        "train = list()\n",
        "while line:\n",
        "    line = line.strip('\\n')\n",
        "    line = line.split()\n",
        "    train.append(line)\n",
        "    line = X_train.readline()\n",
        "print(type(train))\n",
        "print(len(train))\n",
        "print(type(train[0]))"
      ],
      "execution_count": 0,
      "outputs": [
        {
          "output_type": "stream",
          "text": [
            "<class 'list'>\n",
            "341072\n",
            "<class 'list'>\n"
          ],
          "name": "stdout"
        }
      ]
    },
    {
      "cell_type": "code",
      "metadata": {
        "id": "uzhEgbWXgr3-",
        "colab_type": "code",
        "outputId": "811f18f1-aa30-4e51-e044-4c21eb5461e2",
        "colab": {
          "base_uri": "https://localhost:8080/",
          "height": 80
        }
      },
      "source": [
        "pip install nltk"
      ],
      "execution_count": 0,
      "outputs": [
        {
          "output_type": "stream",
          "text": [
            "Requirement already satisfied: nltk in /usr/local/lib/python3.6/dist-packages (3.2.5)\n",
            "Requirement already satisfied: six in /usr/local/lib/python3.6/dist-packages (from nltk) (1.12.0)\n"
          ],
          "name": "stdout"
        }
      ]
    },
    {
      "cell_type": "code",
      "metadata": {
        "id": "iOQfPvULfct8",
        "colab_type": "code",
        "colab": {}
      },
      "source": [
        "from keras.layers.core import Activation, Dense\n",
        "from keras.preprocessing.text import Tokenizer\n",
        "from keras.layers.embeddings import Embedding\n",
        "from keras.layers.recurrent import LSTM\n",
        "from keras.models import Sequential\n",
        "from keras.preprocessing import sequence\n",
        "import keras \n",
        "import collections\n",
        "import numpy as np"
      ],
      "execution_count": 0,
      "outputs": []
    },
    {
      "cell_type": "code",
      "metadata": {
        "id": "u8PnJLoFfcuB",
        "colab_type": "code",
        "colab": {}
      },
      "source": [
        "y_train = open('y_train.txt')\n",
        "label = list()\n",
        "line = y_train.readline()\n",
        "while line:\n",
        "    line = line.strip('\\n')\n",
        "    line = line.split()\n",
        "    label.append(int(line[0]))\n",
        "    line = y_train.readline()"
      ],
      "execution_count": 0,
      "outputs": []
    },
    {
      "cell_type": "code",
      "metadata": {
        "id": "xva9ytKAfcuE",
        "colab_type": "code",
        "colab": {}
      },
      "source": [
        "import numpy as np\n",
        "label = np.array(label)\n",
        "train = np.array(train)"
      ],
      "execution_count": 0,
      "outputs": []
    },
    {
      "cell_type": "code",
      "metadata": {
        "id": "AeUx7rt4fcuH",
        "colab_type": "code",
        "colab": {}
      },
      "source": [
        "tokenizer = Tokenizer()\n",
        "tokenizer.fit_on_texts(train)"
      ],
      "execution_count": 0,
      "outputs": []
    },
    {
      "cell_type": "code",
      "metadata": {
        "id": "V1cvyTAEfcuK",
        "colab_type": "code",
        "colab": {}
      },
      "source": [
        "vocab=tokenizer.word_index"
      ],
      "execution_count": 0,
      "outputs": []
    },
    {
      "cell_type": "code",
      "metadata": {
        "id": "qKW4LieCfcuL",
        "colab_type": "code",
        "outputId": "f3f5a0a1-0182-49d3-95eb-b9cfc3392e61",
        "colab": {
          "base_uri": "https://localhost:8080/",
          "height": 34
        }
      },
      "source": [
        "len(vocab)"
      ],
      "execution_count": 0,
      "outputs": [
        {
          "output_type": "execute_result",
          "data": {
            "text/plain": [
              "383395"
            ]
          },
          "metadata": {
            "tags": []
          },
          "execution_count": 11
        }
      ]
    },
    {
      "cell_type": "code",
      "metadata": {
        "id": "3cvwVOhLfcuN",
        "colab_type": "code",
        "colab": {}
      },
      "source": [
        "encoded_train = tokenizer.texts_to_sequences(train)"
      ],
      "execution_count": 0,
      "outputs": []
    },
    {
      "cell_type": "code",
      "metadata": {
        "id": "Q1ArkV7ofcuO",
        "colab_type": "code",
        "outputId": "0faec32a-cf6f-4631-e161-a8dedfc3f20c",
        "colab": {
          "base_uri": "https://localhost:8080/",
          "height": 34
        }
      },
      "source": [
        "type(encoded_train)"
      ],
      "execution_count": 0,
      "outputs": [
        {
          "output_type": "execute_result",
          "data": {
            "text/plain": [
              "list"
            ]
          },
          "metadata": {
            "tags": []
          },
          "execution_count": 13
        }
      ]
    },
    {
      "cell_type": "code",
      "metadata": {
        "id": "aBFzzXFafcuQ",
        "colab_type": "code",
        "colab": {}
      },
      "source": [
        "encoded_train = np.array(encoded_train)"
      ],
      "execution_count": 0,
      "outputs": []
    },
    {
      "cell_type": "code",
      "metadata": {
        "id": "CqUENG0VfcuR",
        "colab_type": "code",
        "colab": {}
      },
      "source": [
        "temp_len = 0\n",
        "for i in range(len(encoded_train)):\n",
        "    temp_len += len(encoded_train[i])\n",
        "\n",
        "mean_len = temp_len / len(encoded_train)\n",
        "mean_len = int(mean_len)\n",
        "\n",
        "encoded_train = sequence.pad_sequences(encoded_train, maxlen=mean_len)"
      ],
      "execution_count": 0,
      "outputs": []
    },
    {
      "cell_type": "code",
      "metadata": {
        "id": "f3JUwMq-fcuS",
        "colab_type": "code",
        "colab": {}
      },
      "source": [
        "label = label.reshape(-1,1)"
      ],
      "execution_count": 0,
      "outputs": []
    },
    {
      "cell_type": "code",
      "metadata": {
        "id": "zf-muAFMfcuT",
        "colab_type": "code",
        "outputId": "a3e1ffd6-8451-42d6-8091-7b27cd2b031f",
        "colab": {
          "base_uri": "https://localhost:8080/",
          "height": 34
        }
      },
      "source": [
        "label.shape"
      ],
      "execution_count": 0,
      "outputs": [
        {
          "output_type": "execute_result",
          "data": {
            "text/plain": [
              "(341072, 1)"
            ]
          },
          "metadata": {
            "tags": []
          },
          "execution_count": 17
        }
      ]
    },
    {
      "cell_type": "code",
      "metadata": {
        "id": "DOTI5mwsfcuV",
        "colab_type": "code",
        "colab": {}
      },
      "source": [
        "label_train = keras.utils.to_categorical(label)"
      ],
      "execution_count": 0,
      "outputs": []
    },
    {
      "cell_type": "code",
      "metadata": {
        "id": "8TRFxiPzfcuW",
        "colab_type": "code",
        "outputId": "4db5cec9-74f7-496a-f704-5395eedccea3",
        "colab": {
          "base_uri": "https://localhost:8080/",
          "height": 34
        }
      },
      "source": [
        "len(vocab)"
      ],
      "execution_count": 0,
      "outputs": [
        {
          "output_type": "execute_result",
          "data": {
            "text/plain": [
              "383395"
            ]
          },
          "metadata": {
            "tags": []
          },
          "execution_count": 19
        }
      ]
    },
    {
      "cell_type": "code",
      "metadata": {
        "id": "zgLJ89BSfcuX",
        "colab_type": "code",
        "outputId": "2d606507-1582-4f3d-c783-dc074cb7c3e4",
        "colab": {
          "base_uri": "https://localhost:8080/",
          "height": 454
        }
      },
      "source": [
        "from keras.layers import Input, Dense, Embedding, Conv2D, MaxPool2D\n",
        "from keras.layers import Reshape, Flatten, Dropout, Concatenate\n",
        "from keras import layers\n",
        "from keras.optimizers import Adam\n",
        "from keras.models import Model,Sequential\n",
        "import keras\n",
        "embedding_dim = 256\n",
        "model = Sequential()\n",
        "model.add(layers.Embedding(len(vocab)+1, embedding_dim,input_length=mean_len))\n",
        "model.add(layers.Conv1D(256, 5, activation='relu'))\n",
        "model.add(layers.GlobalMaxPooling1D())\n",
        "model.add(Dense(6,activation='softmax'))\n",
        "print(model.summary())"
      ],
      "execution_count": 0,
      "outputs": [
        {
          "output_type": "stream",
          "text": [
            "WARNING:tensorflow:From /usr/local/lib/python3.6/dist-packages/keras/backend/tensorflow_backend.py:541: The name tf.placeholder is deprecated. Please use tf.compat.v1.placeholder instead.\n",
            "\n",
            "WARNING:tensorflow:From /usr/local/lib/python3.6/dist-packages/keras/backend/tensorflow_backend.py:4432: The name tf.random_uniform is deprecated. Please use tf.random.uniform instead.\n",
            "\n",
            "Model: \"sequential_2\"\n",
            "_________________________________________________________________\n",
            "Layer (type)                 Output Shape              Param #   \n",
            "=================================================================\n",
            "embedding_1 (Embedding)      (None, 80, 256)           98149376  \n",
            "_________________________________________________________________\n",
            "conv1d_1 (Conv1D)            (None, 76, 256)           327936    \n",
            "_________________________________________________________________\n",
            "global_max_pooling1d_1 (Glob (None, 256)               0         \n",
            "_________________________________________________________________\n",
            "dense_1 (Dense)              (None, 6)                 1542      \n",
            "=================================================================\n",
            "Total params: 98,478,854\n",
            "Trainable params: 98,478,854\n",
            "Non-trainable params: 0\n",
            "_________________________________________________________________\n",
            "None\n"
          ],
          "name": "stdout"
        }
      ]
    },
    {
      "cell_type": "code",
      "metadata": {
        "id": "3v9ZfBqGfcuZ",
        "colab_type": "code",
        "outputId": "8a6c711f-178b-4f38-d7de-f13bec22525d",
        "colab": {
          "base_uri": "https://localhost:8080/",
          "height": 1000
        }
      },
      "source": [
        "adam = keras.optimizers.Adamax(lr=0.001, beta_1=0.9, beta_2=0.999, epsilon=None, decay=0.0)\n",
        "model.compile(loss='categorical_crossentropy', optimizer=adam, metrics=['accuracy'])\n",
        "history = model.fit(encoded_train, label_train,epochs=12,verbose=1,batch_size=500)"
      ],
      "execution_count": 0,
      "outputs": [
        {
          "output_type": "stream",
          "text": [
            "WARNING:tensorflow:From /usr/local/lib/python3.6/dist-packages/keras/optimizers.py:793: The name tf.train.Optimizer is deprecated. Please use tf.compat.v1.train.Optimizer instead.\n",
            "\n",
            "WARNING:tensorflow:From /usr/local/lib/python3.6/dist-packages/keras/backend/tensorflow_backend.py:3576: The name tf.log is deprecated. Please use tf.math.log instead.\n",
            "\n",
            "WARNING:tensorflow:From /usr/local/lib/python3.6/dist-packages/tensorflow_core/python/ops/math_grad.py:1424: where (from tensorflow.python.ops.array_ops) is deprecated and will be removed in a future version.\n",
            "Instructions for updating:\n",
            "Use tf.where in 2.0, which has the same broadcast rule as np.where\n",
            "WARNING:tensorflow:From /usr/local/lib/python3.6/dist-packages/keras/backend/tensorflow_backend.py:1033: The name tf.assign_add is deprecated. Please use tf.compat.v1.assign_add instead.\n",
            "\n",
            "WARNING:tensorflow:From /usr/local/lib/python3.6/dist-packages/keras/backend/tensorflow_backend.py:1020: The name tf.assign is deprecated. Please use tf.compat.v1.assign instead.\n",
            "\n",
            "WARNING:tensorflow:From /usr/local/lib/python3.6/dist-packages/keras/backend/tensorflow_backend.py:3005: The name tf.Session is deprecated. Please use tf.compat.v1.Session instead.\n",
            "\n",
            "Epoch 1/12\n",
            "WARNING:tensorflow:From /usr/local/lib/python3.6/dist-packages/keras/backend/tensorflow_backend.py:190: The name tf.get_default_session is deprecated. Please use tf.compat.v1.get_default_session instead.\n",
            "\n",
            "WARNING:tensorflow:From /usr/local/lib/python3.6/dist-packages/keras/backend/tensorflow_backend.py:197: The name tf.ConfigProto is deprecated. Please use tf.compat.v1.ConfigProto instead.\n",
            "\n",
            "WARNING:tensorflow:From /usr/local/lib/python3.6/dist-packages/keras/backend/tensorflow_backend.py:207: The name tf.global_variables is deprecated. Please use tf.compat.v1.global_variables instead.\n",
            "\n",
            "WARNING:tensorflow:From /usr/local/lib/python3.6/dist-packages/keras/backend/tensorflow_backend.py:216: The name tf.is_variable_initialized is deprecated. Please use tf.compat.v1.is_variable_initialized instead.\n",
            "\n",
            "WARNING:tensorflow:From /usr/local/lib/python3.6/dist-packages/keras/backend/tensorflow_backend.py:223: The name tf.variables_initializer is deprecated. Please use tf.compat.v1.variables_initializer instead.\n",
            "\n",
            "341072/341072 [==============================] - 39s 114us/step - loss: 0.8662 - acc: 0.6888\n",
            "Epoch 2/12\n",
            "341072/341072 [==============================] - 29s 85us/step - loss: 0.6642 - acc: 0.7533\n",
            "Epoch 3/12\n",
            "341072/341072 [==============================] - 29s 85us/step - loss: 0.5772 - acc: 0.7884\n",
            "Epoch 4/12\n",
            "341072/341072 [==============================] - 29s 85us/step - loss: 0.4998 - acc: 0.8210\n",
            "Epoch 5/12\n",
            "341072/341072 [==============================] - 29s 85us/step - loss: 0.4270 - acc: 0.8508\n",
            "Epoch 6/12\n",
            "341072/341072 [==============================] - 29s 85us/step - loss: 0.3583 - acc: 0.8791\n",
            "Epoch 7/12\n",
            "341072/341072 [==============================] - 29s 85us/step - loss: 0.2941 - acc: 0.9043\n",
            "Epoch 8/12\n",
            "341072/341072 [==============================] - 29s 85us/step - loss: 0.2353 - acc: 0.9278\n",
            "Epoch 9/12\n",
            "341072/341072 [==============================] - 29s 84us/step - loss: 0.1839 - acc: 0.9472\n",
            "Epoch 10/12\n",
            "341072/341072 [==============================] - 29s 85us/step - loss: 0.1397 - acc: 0.9633\n",
            "Epoch 11/12\n",
            "341072/341072 [==============================] - 29s 85us/step - loss: 0.1031 - acc: 0.9758\n",
            "Epoch 12/12\n",
            "341072/341072 [==============================] - 29s 85us/step - loss: 0.0735 - acc: 0.9848\n"
          ],
          "name": "stdout"
        }
      ]
    },
    {
      "cell_type": "code",
      "metadata": {
        "id": "KdU37pb1fcub",
        "colab_type": "code",
        "outputId": "07183bf9-28d2-4fef-bb11-c3ce3914f7af",
        "colab": {
          "base_uri": "https://localhost:8080/",
          "height": 68
        }
      },
      "source": [
        "X_test = open('X_test.txt')\n",
        "line = X_test.readline()\n",
        "test = list()\n",
        "while line:\n",
        "    line = line.strip('\\n')\n",
        "    line = line.split()\n",
        "    test.append(line)\n",
        "    line = X_test.readline()\n",
        "print(type(test))\n",
        "print(len(test))\n",
        "print(type(test[0]))"
      ],
      "execution_count": 0,
      "outputs": [
        {
          "output_type": "stream",
          "text": [
            "<class 'list'>\n",
            "113691\n",
            "<class 'list'>\n"
          ],
          "name": "stdout"
        }
      ]
    },
    {
      "cell_type": "code",
      "metadata": {
        "id": "2sAH733pfcuc",
        "colab_type": "code",
        "colab": {}
      },
      "source": [
        "y_test = open('y_test.txt')\n",
        "label_test = list()\n",
        "line = y_test.readline()\n",
        "while line:\n",
        "    line = line.strip('\\n')\n",
        "    line = line.split()\n",
        "    label_test.append(int(line[0]))\n",
        "    line = y_test.readline()"
      ],
      "execution_count": 0,
      "outputs": []
    },
    {
      "cell_type": "code",
      "metadata": {
        "id": "8IPH59VYfcud",
        "colab_type": "code",
        "colab": {}
      },
      "source": [
        "encoded_test = tokenizer.texts_to_sequences(test)\n",
        "encoded_test = np.array(encoded_test)\n",
        "encoded_test = sequence.pad_sequences(encoded_test, maxlen=mean_len)"
      ],
      "execution_count": 0,
      "outputs": []
    },
    {
      "cell_type": "code",
      "metadata": {
        "id": "Ng4-ex-Ifcue",
        "colab_type": "code",
        "colab": {}
      },
      "source": [
        "predict_test = model.predict(encoded_test)"
      ],
      "execution_count": 0,
      "outputs": []
    },
    {
      "cell_type": "code",
      "metadata": {
        "id": "vYmKPOVOfcue",
        "colab_type": "code",
        "outputId": "efc99c37-221a-4e26-de86-07b368e4355f",
        "colab": {
          "base_uri": "https://localhost:8080/",
          "height": 34
        }
      },
      "source": [
        "acc_num = 0\n",
        "for i in range(len(encoded_test)):\n",
        "    cla = np.argmax(predict_test[i])\n",
        "    if cla == label_test[i]:\n",
        "        acc_num = acc_num + 1\n",
        "\n",
        "print(acc_num/len(encoded_test))"
      ],
      "execution_count": 0,
      "outputs": [
        {
          "output_type": "stream",
          "text": [
            "0.8068624605289777\n"
          ],
          "name": "stdout"
        }
      ]
    },
    {
      "cell_type": "code",
      "metadata": {
        "id": "z5MBzOZVfcuf",
        "colab_type": "code",
        "colab": {}
      },
      "source": [
        ""
      ],
      "execution_count": 0,
      "outputs": []
    }
  ]
}